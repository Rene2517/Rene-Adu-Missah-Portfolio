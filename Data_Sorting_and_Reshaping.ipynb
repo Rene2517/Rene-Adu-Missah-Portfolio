{
 "cells": [
  {
   "cell_type": "markdown",
   "metadata": {},
   "source": [
    "# Sorting and Reshaping\n",
    "We’ll explore sorting and reshaping data using Pandas.\n",
    "\n",
    "By the end of this activity, you’ll learn to:\n",
    "- Sort data by column values and indices.\n",
    "- Perform hierarchical sorting using multiple columns.\n",
    "- Reshape data with `pivot()` and summarise it using `pivot_table()`.\n"
   ]
  },
  {
   "cell_type": "markdown",
   "metadata": {},
   "source": [
    "## Sorting Data\n",
    "\n",
    "Sorting is an essential part of data analysis. \n",
    "\n",
    "It helps us make sense of data by organising it in a meaningful way. \n",
    "\n",
    "In Pandas, we can sort data using two main methods:\n",
    "- `sort_values()`: Sort rows based on column values.\n",
    "- `sort_index()`: Sort rows or columns based on their index labels.\n"
   ]
  },
  {
   "cell_type": "markdown",
   "metadata": {},
   "source": [
    "---\n",
    "## Load the Data"
   ]
  },
  {
   "cell_type": "code",
   "execution_count": 1,
   "metadata": {},
   "outputs": [],
   "source": [
    "# Import Pandas\n",
    "import pandas as pd"
   ]
  },
  {
   "cell_type": "code",
   "execution_count": 2,
   "metadata": {},
   "outputs": [
    {
     "name": "stdout",
     "output_type": "stream",
     "text": [
      "      Name  Age  Score Department\n",
      "0    Alice   24     85      Sales\n",
      "1      Bob   19     92         HR\n",
      "2  Charlie   22     88         IT\n",
      "3    Diana   23     76    Finance\n",
      "4      Eve   24     90      Sales\n",
      "5    Frank   19     85         HR\n",
      "6    Grace   22     88         IT\n",
      "7   Hannah   23     76    Finance\n"
     ]
    }
   ],
   "source": [
    "# Sample dataset\n",
    "data = {\n",
    "    'Name': ['Alice', 'Bob', 'Charlie', 'Diana', 'Eve', 'Frank', 'Grace', 'Hannah'],\n",
    "    'Age': [24, 19, 22, 23, 24, 19, 22, 23],\n",
    "    'Score': [85, 92, 88, 76, 90, 85, 88, 76],\n",
    "    'Department': ['Sales', 'HR', 'IT', 'Finance', 'Sales', 'HR', 'IT', 'Finance']\n",
    "}\n",
    "df = pd.DataFrame(data)\n",
    "print(df)"
   ]
  },
  {
   "cell_type": "markdown",
   "metadata": {},
   "source": [
    "---\n",
    "## Sort by Age (Ascending)\n",
    "Sort the data by `Age` in ascending order—smallest to largest."
   ]
  },
  {
   "cell_type": "code",
   "execution_count": 3,
   "metadata": {},
   "outputs": [
    {
     "name": "stdout",
     "output_type": "stream",
     "text": [
      "      Name  Age  Score Department\n",
      "1      Bob   19     92         HR\n",
      "5    Frank   19     85         HR\n",
      "6    Grace   22     88         IT\n",
      "2  Charlie   22     88         IT\n",
      "7   Hannah   23     76    Finance\n",
      "3    Diana   23     76    Finance\n",
      "0    Alice   24     85      Sales\n",
      "4      Eve   24     90      Sales\n"
     ]
    }
   ],
   "source": [
    "sorted_by_age = df.sort_values(by='Age')\n",
    "print(sorted_by_age)"
   ]
  },
  {
   "cell_type": "markdown",
   "metadata": {},
   "source": [
    "The method `sort_values(by='Age')` organizes the rows in ascending order of the Age column.\n",
    "\n",
    "You can observe that the youngest learner appears at the top, while the oldest is listed at the bottom.\n",
    "\n",
    "All other columns (`Name`, `Score`, `Department`) remain aligned with the newly sorted `Age` values."
   ]
  },
  {
   "cell_type": "markdown",
   "metadata": {},
   "source": [
    "---\n",
    "## Sort by Score (Descending)\n",
    "Sort by `Score` but in descending order—highest to lowest."
   ]
  },
  {
   "cell_type": "code",
   "execution_count": 4,
   "metadata": {},
   "outputs": [
    {
     "name": "stdout",
     "output_type": "stream",
     "text": [
      "      Name  Age  Score Department\n",
      "1      Bob   19     92         HR\n",
      "4      Eve   24     90      Sales\n",
      "6    Grace   22     88         IT\n",
      "2  Charlie   22     88         IT\n",
      "5    Frank   19     85         HR\n",
      "0    Alice   24     85      Sales\n",
      "3    Diana   23     76    Finance\n",
      "7   Hannah   23     76    Finance\n"
     ]
    }
   ],
   "source": [
    "sorted_by_score = df.sort_values(by='Score', ascending=False)\n",
    "print(sorted_by_score)"
   ]
  },
  {
   "cell_type": "markdown",
   "metadata": {},
   "source": [
    "We included the parameter `ascending=False` to sort the values in descending order.  \n",
    "\n",
    "As a result, Bob, with the highest score of 92, is now at the top, while Diana and Hannah, both with the lowest scores of 76, are at the bottom."
   ]
  },
  {
   "cell_type": "markdown",
   "metadata": {},
   "source": [
    "---\n",
    "## Sort by Multiple Columns (Age Ascending, Score Descending)"
   ]
  },
  {
   "cell_type": "markdown",
   "metadata": {},
   "source": [
    "What if we need to sort by multiple columns? For example, we can start by sorting by `Age` and then, for rows with the same age, sort by `Score` in descending order.  \n",
    "\n",
    "To achieve this, we can provide a list of column names to the `by` parameter and a corresponding list of booleans to the `ascending` parameter to specify the sorting order for each column."
   ]
  },
  {
   "cell_type": "code",
   "execution_count": 5,
   "metadata": {},
   "outputs": [
    {
     "name": "stdout",
     "output_type": "stream",
     "text": [
      "      Name  Age  Score Department\n",
      "1      Bob   19     92         HR\n",
      "5    Frank   19     85         HR\n",
      "2  Charlie   22     88         IT\n",
      "6    Grace   22     88         IT\n",
      "3    Diana   23     76    Finance\n",
      "7   Hannah   23     76    Finance\n",
      "4      Eve   24     90      Sales\n",
      "0    Alice   24     85      Sales\n"
     ]
    }
   ],
   "source": [
    "sorted_by_age_score = df.sort_values(by=['Age', 'Score'], ascending=[True, False])\n",
    "print(sorted_by_age_score)"
   ]
  },
  {
   "cell_type": "markdown",
   "metadata": {},
   "source": [
    "#### Hierarchical Sorting\n",
    "This type of sorting is called hierarchical sorting.\n",
    "\n",
    "Hierarchical sorting is the process of sorting data by multiple criteria in a specific order of priority.\n",
    "\n",
    "- The `first criterion` is applied to group or organise the data.\n",
    "- The `second (or subsequent)` criterion is used to sort rows within each group formed by the first criterion.\n",
    "\n",
    "For example:\n",
    "If we sort by `Age` (ascending) and then by `Score` (descending), all rows with the same Age will be grouped together first. \n",
    "\n",
    "Within each `Age` group, rows will then be ordered based on their `Score`."
   ]
  },
  {
   "cell_type": "markdown",
   "metadata": {},
   "source": [
    "---\n",
    "## Sort by Index (Descending)\n",
    "Let’s see the original dataframe.\n",
    "\n",
    "Notice the numbers on the left side."
   ]
  },
  {
   "cell_type": "code",
   "execution_count": 6,
   "metadata": {},
   "outputs": [
    {
     "name": "stdout",
     "output_type": "stream",
     "text": [
      "Original Dataframe:\n",
      "       Name  Age  Score Department\n",
      "0    Alice   24     85      Sales\n",
      "1      Bob   19     92         HR\n",
      "2  Charlie   22     88         IT\n",
      "3    Diana   23     76    Finance\n",
      "4      Eve   24     90      Sales\n",
      "5    Frank   19     85         HR\n",
      "6    Grace   22     88         IT\n",
      "7   Hannah   23     76    Finance\n"
     ]
    }
   ],
   "source": [
    "print(\"Original Dataframe:\\n\", df)"
   ]
  },
  {
   "cell_type": "markdown",
   "metadata": {},
   "source": [
    "Now, let's sort by index instead of column values. "
   ]
  },
  {
   "cell_type": "code",
   "execution_count": 7,
   "metadata": {},
   "outputs": [
    {
     "name": "stdout",
     "output_type": "stream",
     "text": [
      "\n",
      "Sorted by Index\n",
      "      Name  Age  Score Department\n",
      "7   Hannah   23     76    Finance\n",
      "6    Grace   22     88         IT\n",
      "5    Frank   19     85         HR\n",
      "4      Eve   24     90      Sales\n",
      "3    Diana   23     76    Finance\n",
      "2  Charlie   22     88         IT\n",
      "1      Bob   19     92         HR\n",
      "0    Alice   24     85      Sales\n"
     ]
    }
   ],
   "source": [
    "print(\"\\nSorted by Index\")\n",
    "sorted_by_index = df.sort_index(ascending=False)\n",
    "print(sorted_by_index)"
   ]
  },
  {
   "cell_type": "markdown",
   "metadata": {},
   "source": [
    "`sort_index()` rearranges rows based on their index labels, sorting in ascending order by default.  \n",
    "\n",
    "To sort in descending order, set `ascending=False`.  \n",
    "\n",
    "The index refers to the labels on the left side of the table, which are separate from the columns.  \n",
    "\n",
    "A DataFrame usually has a single row index, which can be numeric or string-based, though custom or multi-level indices can also be used.  \n",
    "\n",
    "Here, the index labels are now sorted in reverse order."
   ]
  },
  {
   "cell_type": "markdown",
   "metadata": {},
   "source": [
    "---\n",
    "## Sort Columns Alphabetically by Name\n",
    "Sort the columns themselves instead of the rows."
   ]
  },
  {
   "cell_type": "code",
   "execution_count": 8,
   "metadata": {},
   "outputs": [
    {
     "name": "stdout",
     "output_type": "stream",
     "text": [
      "Original Dataframe:\n",
      "       Name  Age  Score Department\n",
      "0    Alice   24     85      Sales\n",
      "1      Bob   19     92         HR\n",
      "2  Charlie   22     88         IT\n",
      "3    Diana   23     76    Finance\n",
      "4      Eve   24     90      Sales\n",
      "5    Frank   19     85         HR\n",
      "6    Grace   22     88         IT\n",
      "7   Hannah   23     76    Finance\n",
      "\n",
      "Sorted Columns Alphabetically by Name\n",
      "   Age Department     Name  Score\n",
      "0   24      Sales    Alice     85\n",
      "1   19         HR      Bob     92\n",
      "2   22         IT  Charlie     88\n",
      "3   23    Finance    Diana     76\n",
      "4   24      Sales      Eve     90\n",
      "5   19         HR    Frank     85\n",
      "6   22         IT    Grace     88\n",
      "7   23    Finance   Hannah     76\n"
     ]
    }
   ],
   "source": [
    "print(\"Original Dataframe:\\n\", df)\n",
    "\n",
    "print(\"\\nSorted Columns Alphabetically by Name\")\n",
    "sorted_columns = df.sort_index(axis=1)\n",
    "print(sorted_columns)"
   ]
  },
  {
   "cell_type": "markdown",
   "metadata": {},
   "source": [
    "In Pandas, the `axis` parameter controls the operation's direction:  \n",
    "- `axis=0` (default): Operates on rows (vertical).  \n",
    "- `axis=1`: Operates on columns (horizontal).  \n",
    "\n",
    "Setting `axis=1` sorts the DataFrame's columns alphabetically by their names.  \n",
    "\n",
    "Now, the columns are arranged alphabetically as `Age`, `Name`, `Department`, and `Score`."
   ]
  },
  {
   "cell_type": "markdown",
   "metadata": {},
   "source": [
    "---\n",
    "## Reshaping\n",
    "In Pandas, reshaping data means transforming a DataFrame into a different structure to enhance its usability for data visualisation and analysis.\n",
    "\n",
    "Pandas provides multiple methods like `pivot()`, `pivot_table()`, `stack()`, `unstack()` and `melt()` to reshape data. \n",
    "\n",
    "Here we’re going to see `pivot()` and `pivot_table()`."
   ]
  },
  {
   "cell_type": "markdown",
   "metadata": {},
   "source": [
    "---\n",
    "## Use Pivot() to Reshape the DataFrame\n",
    "Let's see the original DataFrame:"
   ]
  },
  {
   "cell_type": "code",
   "execution_count": 9,
   "metadata": {},
   "outputs": [
    {
     "name": "stdout",
     "output_type": "stream",
     "text": [
      "Original Dataframe:\n",
      "       Name  Age  Score Department\n",
      "0    Alice   24     85      Sales\n",
      "1      Bob   19     92         HR\n",
      "2  Charlie   22     88         IT\n",
      "3    Diana   23     76    Finance\n",
      "4      Eve   24     90      Sales\n",
      "5    Frank   19     85         HR\n",
      "6    Grace   22     88         IT\n",
      "7   Hannah   23     76    Finance\n"
     ]
    }
   ],
   "source": [
    "print(\"Original Dataframe:\\n\", df)"
   ]
  },
  {
   "cell_type": "markdown",
   "metadata": {},
   "source": [
    "The **pivot()** function is used to reorganise data by specifying three key elements:\n",
    "\n",
    "- `index`: Defines the rows of the new table. In this case, it will be Name.\n",
    "- `columns`: Defines the columns. Here, it will be Department.\n",
    "- `values`: Specifies the data to fill the cells. We'll use Score."
   ]
  },
  {
   "cell_type": "markdown",
   "metadata": {},
   "source": [
    "Let's create a table showing scores of individuals for different departments."
   ]
  },
  {
   "cell_type": "code",
   "execution_count": 10,
   "metadata": {},
   "outputs": [
    {
     "name": "stdout",
     "output_type": "stream",
     "text": [
      "\n",
      "Pivoted DataFrame with empty strings:\n",
      " Department Finance    HR    IT Sales\n",
      "Name                                \n",
      "Alice                           85.0\n",
      "Bob                 92.0            \n",
      "Charlie                   88.0      \n",
      "Diana         76.0                  \n",
      "Eve                             90.0\n",
      "Frank               85.0            \n",
      "Grace                     88.0      \n",
      "Hannah        76.0                  \n"
     ]
    }
   ],
   "source": [
    "# Pivot the DataFrame\n",
    "pivot_df = df.pivot(index='Name', columns='Department', values='Score')\n",
    "\n",
    "# Replace NaN with an empty string\n",
    "pivot_df = pivot_df.fillna('')\n",
    "\n",
    "print(\"\\nPivoted DataFrame with empty strings:\\n\", pivot_df)\n"
   ]
  },
  {
   "cell_type": "markdown",
   "metadata": {},
   "source": [
    "The `Name` column from the original DataFrame is now used as the row labels in the new table, as specified by `index='Name'`.  \n",
    "\n",
    "Each distinct value in the `Department` column has been transformed into a column header, as defined by `columns='Department'`.  \n",
    "\n",
    "The cells are populated with the corresponding `Score` values, and any missing values (`NaN`) have been replaced with empty strings for better readability."
   ]
  },
  {
   "cell_type": "markdown",
   "metadata": {},
   "source": [
    "---\n",
    "## Summarise Data Using pivot_table()\n",
    "How can we calculate metrics, like averages, for specific groups?  \n",
    "We’ll use Pandas’ `pivot_table()` to summarise data by grouping and calculating aggregate metrics.  \n",
    "To calculate the average score for each department, the function requires:  \n",
    "- `index`: Column to group by (e.g., Department).  \n",
    "- `values`: Column to calculate metrics for (e.g., Score).  \n",
    "- `aggfunc`: Aggregation function (e.g., `mean`, `sum`, or `count`).  "
   ]
  },
  {
   "cell_type": "code",
   "execution_count": 11,
   "metadata": {},
   "outputs": [
    {
     "name": "stdout",
     "output_type": "stream",
     "text": [
      "Original Dataframe:\n",
      "       Name  Age  Score Department\n",
      "0    Alice   24     85      Sales\n",
      "1      Bob   19     92         HR\n",
      "2  Charlie   22     88         IT\n",
      "3    Diana   23     76    Finance\n",
      "4      Eve   24     90      Sales\n",
      "5    Frank   19     85         HR\n",
      "6    Grace   22     88         IT\n",
      "7   Hannah   23     76    Finance\n",
      "\n",
      "Pivot Table (Average Score by Department):\n",
      "             Score\n",
      "Department       \n",
      "Finance      76.0\n",
      "HR           88.5\n",
      "IT           88.0\n",
      "Sales        87.5\n"
     ]
    }
   ],
   "source": [
    "print(\"Original Dataframe:\\n\", df)\n",
    "\n",
    "pivot_table_df = df.pivot_table(index='Department', values='Score', aggfunc='mean')\n",
    "print(\"\\nPivot Table (Average Score by Department):\\n\", pivot_table_df)"
   ]
  },
  {
   "cell_type": "markdown",
   "metadata": {},
   "source": [
    "The `Department` column is now the row labels (index), and the `Score` column is summarised with averages under the `Score` column.  \n",
    "\n",
    "The `mean` function computes the average `Score` for each department, e.g., HR's average is 88.5, based on Bob (92) and Frank (85)."
   ]
  }
 ],
 "metadata": {
  "kernelspec": {
   "display_name": ".venv",
   "language": "python",
   "name": "python3"
  },
  "language_info": {
   "codemirror_mode": {
    "name": "ipython",
    "version": 3
   },
   "file_extension": ".py",
   "mimetype": "text/x-python",
   "name": "python",
   "nbconvert_exporter": "python",
   "pygments_lexer": "ipython3",
   "version": "3.12.8"
  }
 },
 "nbformat": 4,
 "nbformat_minor": 4
}
