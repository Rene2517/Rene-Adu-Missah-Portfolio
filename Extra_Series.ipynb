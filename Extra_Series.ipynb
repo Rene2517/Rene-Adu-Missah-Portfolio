{
 "cells": [
  {
   "cell_type": "markdown",
   "metadata": {},
   "source": [
    "# Series\n",
    "\n",
    "A `Series` in Pandas is like a single column of data in a table, but it’s more powerful because each value in the column has a label called an `index`.\n",
    "\n",
    "Here’s how to think about it:\n",
    "\n",
    "- It’s `one-dimensional`, like a list or array, but with labels (index) to help you identify each value.\n",
    "- The `index` is on the left side, and the `data` (values) is on the right.\n",
    "- You can use the index to look up specific values or manipulate the data.\n",
    "\n",
    "## Example:"
   ]
  },
  {
   "cell_type": "code",
   "execution_count": null,
   "metadata": {},
   "outputs": [],
   "source": [
    "import pandas as pd\n",
    "\n",
    "# Create a Series\n",
    "data = [10, 20, 30]\n",
    "index = ['a', 'b', 'c']\n",
    "series = pd.Series(data, index=index)\n",
    "\n",
    "print(series)"
   ]
  },
  {
   "cell_type": "markdown",
   "metadata": {},
   "source": [
    "- `a`, `b`, `c` are the `index`.\n",
    "- `10`, `20`, `30` are the `values`.\n",
    "\n",
    "In short, a Series is like a labelled list, making it easier to work with and reference specific data points!"
   ]
  }
 ],
 "metadata": {
  "kernelspec": {
   "display_name": ".venv",
   "language": "python",
   "name": "python3"
  },
  "language_info": {
   "name": "python",
   "version": "3.11.4"
  }
 },
 "nbformat": 4,
 "nbformat_minor": 2
}
