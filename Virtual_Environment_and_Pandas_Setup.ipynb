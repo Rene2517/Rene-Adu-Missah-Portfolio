{
 "cells": [
  {
   "cell_type": "markdown",
   "metadata": {},
   "source": [
    "# Setting Up a Virtual Environment and Using Pandas\n",
    "\n",
    "This notebook provides a guide to setting up a virtual environment for Python and installing the pandas library.\n",
    "Follow the steps below to get started."
   ]
  },
  {
   "cell_type": "markdown",
   "metadata": {},
   "source": [
    "## Set Up a Virtual Environment\n",
    "\n",
    "In the terminal, navigate to your project folder and run the following command to create a virtual environment:\n",
    "\n",
    "\n",
    "\n",
    "```bash\n",
    "python -m venv .venv\n",
    "```\n",
    "\n",
    "Activate the virtual environment by running:\n",
    "\n",
    "- **Windows**: `.venv\\Scripts\\activate`\n",
    "- **macOS/Linux**: `source .venv/bin/activate`\n",
    "\n",
    "Once activated, you should see your virtual environment’s name in the terminal prompt."
   ]
  },
  {
   "cell_type": "markdown",
   "metadata": {},
   "source": [
    "## Install Pandas\n",
    "\n",
    "With the virtual environment activated, install the pandas library by running:\n",
    "\n",
    "```bash\n",
    "pip install pandas ipykernel\n",
    "```"
   ]
  },
  {
   "cell_type": "markdown",
   "metadata": {},
   "source": [
    "## Select Kernel\n",
    "Click on the kernel dropdown (right upper corner) and choose the virtual environment you activated (e.g., .venv)."
   ]
  },
  {
   "cell_type": "markdown",
   "metadata": {},
   "source": [
    "## Verify Pandas Installation\n",
    "\n",
    "To confirm pandas is installed, import it and check the version. Run the following cell:"
   ]
  },
  {
   "cell_type": "code",
   "execution_count": 1,
   "metadata": {},
   "outputs": [
    {
     "data": {
      "text/plain": [
       "'2.2.3'"
      ]
     },
     "execution_count": 1,
     "metadata": {},
     "output_type": "execute_result"
    }
   ],
   "source": [
    "import pandas as pd\n",
    "pd.__version__"
   ]
  }
 ],
 "metadata": {
  "kernelspec": {
   "display_name": ".venv",
   "language": "python",
   "name": "python3"
  },
  "language_info": {
   "codemirror_mode": {
    "name": "ipython",
    "version": 3
   },
   "file_extension": ".py",
   "mimetype": "text/x-python",
   "name": "python",
   "nbconvert_exporter": "python",
   "pygments_lexer": "ipython3",
   "version": "3.12.8"
  }
 },
 "nbformat": 4,
 "nbformat_minor": 4
}
